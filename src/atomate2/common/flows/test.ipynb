{
 "cells": [
  {
   "cell_type": "code",
   "execution_count": 1,
   "metadata": {},
   "outputs": [],
   "source": [
    "%load_ext autoreload\n",
    "%autoreload 2"
   ]
  },
  {
   "cell_type": "code",
   "execution_count": 2,
   "metadata": {},
   "outputs": [
    {
     "name": "stderr",
     "output_type": "stream",
     "text": [
      "/Users/bli/miniconda3/envs/at2/lib/python3.9/site-packages/tqdm/auto.py:21: TqdmWarning: IProgress not found. Please update jupyter and ipywidgets. See https://ipywidgets.readthedocs.io/en/stable/user_install.html\n",
      "  from .autonotebook import tqdm as notebook_tqdm\n"
     ]
    }
   ],
   "source": [
    "from atomate2.common.flows.amorphous import MPMorphMDMaker, EquilibriumVolumeMaker\n",
    "\n",
    "from atomate2.vasp.jobs.md import MDMaker\n",
    "from atomate2.vasp.sets.core import MDSetGenerator\n",
    "\n",
    "from pymatgen.io.vasp import Kpoints"
   ]
  },
  {
   "cell_type": "code",
   "execution_count": 3,
   "metadata": {},
   "outputs": [],
   "source": [
    "name: str = \"MP Morph vasp md\"\n",
    "temperature: int = 300\n",
    "end_temp: int = 300\n",
    "steps_convergence: int = 20\n",
    "steps_quench: int = 500  # check old MPMorph code\n",
    "quench_temps: dict = {\n",
    "    \"start_temp\": 3000,\n",
    "    \"end_temp\": 500,\n",
    "    \"temp_step\": 500,\n",
    "}\n",
    "steps_production: int = 50\n",
    "\n",
    "incar_settings = {\n",
    "                    \"ISPIN\": 1,  # Do not consider magnetism in AIMD simulations\n",
    "                    \"LREAL\": \"Auto\",  # Peform calculation in real space for AIMD due to large unit cell size\n",
    "                    \"LAECHG\": False,  # Don't need AECCAR for AIMD\n",
    "                    \"EDIFFG\": None,  # Does not apply to MD simulations, see: https://www.vasp.at/wiki/index.php/EDIFFG\n",
    "                    \"GGA\": \"PS\",  # Just let VASP decide based on POTCAR - the default, PS yields the error below\n",
    "                    \"LPLANE\": False,  # LPLANE is recommended to be False on Cray machines (https://www.vasp.at/wiki/index.php/LPLANE)\n",
    "                    \"LDAUPRINT\": 0,\n",
    "                }\n",
    "\n",
    "gamma_point = user_kpoints_settings=Kpoints(\n",
    "                            comment=\"Gamma only\",\n",
    "                            num_kpts=1,\n",
    "                            kpts=[[0, 0, 0]],\n",
    "                            kpts_weights=[1.0],\n",
    "                        )\n",
    "aimd_equil_maker = MDMaker(input_set_generator=MDSetGenerator(\n",
    "                        ensemble=\"nvt\",\n",
    "                        start_temp=temperature,\n",
    "                        end_temp=end_temp,\n",
    "                        nsteps=steps_convergence,\n",
    "                        time_step=2,\n",
    "                        # adapted from MPMorph settings\n",
    "                        user_incar_settings=incar_settings,\n",
    "                        user_kpoints_settings=gamma_point,\n",
    "                        ))\n",
    "aimd_prod_maker = MDMaker(input_set_generator=MDSetGenerator(\n",
    "                        ensemble=\"nvt\",\n",
    "                        start_temp=temperature,\n",
    "                        end_temp=end_temp,\n",
    "                        nsteps=steps_production,\n",
    "                        time_step=2,\n",
    "                        # adapted from MPMorph settings\n",
    "                        user_incar_settings=incar_settings,\n",
    "                        user_kpoints_settings=gamma_point,\n",
    "                        ))\n",
    "\n",
    "\n",
    "equil_vol = EquilibriumVolumeMaker(eos_relax_maker=aimd_equil_maker)"
   ]
  },
  {
   "cell_type": "code",
   "execution_count": 4,
   "metadata": {},
   "outputs": [
    {
     "name": "stdout",
     "output_type": "stream",
     "text": [
      "No module named 'phonopy'\n",
      "No module named 'phonopy'\n"
     ]
    },
    {
     "name": "stderr",
     "output_type": "stream",
     "text": [
      "Retrieving MaterialsDoc documents: 100%|██████████| 1/1 [00:00<00:00, 2816.86it/s]\n"
     ]
    }
   ],
   "source": [
    "from mp_api.client import MPRester\n",
    "with MPRester(api_key=\"jATnFCFc6afcHi9vTozmteJAYjdFIFbS\") as mpr:\n",
    "    structure = mpr.get_structure_by_material_id('mp-149', conventional_unit_cell=True)"
   ]
  },
  {
   "cell_type": "code",
   "execution_count": 10,
   "metadata": {},
   "outputs": [
    {
     "name": "stdout",
     "output_type": "stream",
     "text": [
      "new print test\n",
      "None\n",
      "new print test\n",
      "OutputReference(ca41fd7c-f6f4-4878-8e01-d3c8a7e698fb)\n"
     ]
    },
    {
     "ename": "TypeError",
     "evalue": "unsupported operand type(s) for /: 'OutputReference' and 'float'",
     "output_type": "error",
     "traceback": [
      "\u001b[0;31m---------------------------------------------------------------------------\u001b[0m",
      "\u001b[0;31mTypeError\u001b[0m                                 Traceback (most recent call last)",
      "Cell \u001b[0;32mIn[10], line 1\u001b[0m\n\u001b[0;32m----> 1\u001b[0m flow \u001b[39m=\u001b[39m equil_vol\u001b[39m.\u001b[39;49mmake(structure)\n",
      "File \u001b[0;32m~/repo2/atomate2/src/atomate2/common/flows/amorphous.py:101\u001b[0m, in \u001b[0;36mEquilibriumVolumeMaker.make\u001b[0;34m(self, structure, prev_dir, working_outputs)\u001b[0m\n\u001b[1;32m     98\u001b[0m     working_outputs \u001b[39m=\u001b[39m postprocess_job\u001b[39m.\u001b[39moutput\n\u001b[1;32m     99\u001b[0m     eos_jobs\u001b[39m.\u001b[39mappend(postprocess_job)\n\u001b[0;32m--> 101\u001b[0m recursive \u001b[39m=\u001b[39m \u001b[39mself\u001b[39;49m\u001b[39m.\u001b[39;49mmake(structure\u001b[39m=\u001b[39;49mstructure, working_outputs\u001b[39m=\u001b[39;49mworking_outputs)\n\u001b[1;32m    103\u001b[0m new_eos_flow \u001b[39m=\u001b[39m Flow([\u001b[39m*\u001b[39meos_jobs, recursive], output\u001b[39m=\u001b[39mworking_outputs)\n\u001b[1;32m    105\u001b[0m \u001b[39mreturn\u001b[39;00m Response(replace\u001b[39m=\u001b[39mnew_eos_flow, output\u001b[39m=\u001b[39mnew_eos_flow\u001b[39m.\u001b[39moutput)\n",
      "File \u001b[0;32m~/repo2/atomate2/src/atomate2/common/flows/amorphous.py:65\u001b[0m, in \u001b[0;36mEquilibriumVolumeMaker.make\u001b[0;34m(self, structure, prev_dir, working_outputs)\u001b[0m\n\u001b[1;32m     63\u001b[0m \u001b[39mif\u001b[39;00m working_outputs[\u001b[39m\"\u001b[39m\u001b[39mV0<Vmax\u001b[39m\u001b[39m\"\u001b[39m] \u001b[39mand\u001b[39;00m working_outputs[\u001b[39m\"\u001b[39m\u001b[39mV0>Vmin\u001b[39m\u001b[39m\"\u001b[39m]:\n\u001b[1;32m     64\u001b[0m     final_structure \u001b[39m=\u001b[39m structure\u001b[39m.\u001b[39mcopy()\n\u001b[0;32m---> 65\u001b[0m     final_structure\u001b[39m.\u001b[39;49mscale_lattice(working_outputs[\u001b[39m\"\u001b[39;49m\u001b[39mV0\u001b[39;49m\u001b[39m\"\u001b[39;49m])\n\u001b[1;32m     66\u001b[0m     \u001b[39mreturn\u001b[39;00m final_structure\n\u001b[1;32m     68\u001b[0m \u001b[39melif\u001b[39;00m \u001b[39mnot\u001b[39;00m working_outputs[\u001b[39m\"\u001b[39m\u001b[39mV0<Vmax\u001b[39m\u001b[39m\"\u001b[39m]:\n",
      "File \u001b[0;32m~/miniconda3/envs/at2/lib/python3.9/site-packages/pymatgen/core/structure.py:4275\u001b[0m, in \u001b[0;36mStructure.scale_lattice\u001b[0;34m(self, volume)\u001b[0m\n\u001b[1;32m   4268\u001b[0m \u001b[39mdef\u001b[39;00m \u001b[39mscale_lattice\u001b[39m(\u001b[39mself\u001b[39m, volume: \u001b[39mfloat\u001b[39m) \u001b[39m-\u001b[39m\u001b[39m>\u001b[39m \u001b[39mNone\u001b[39;00m:\n\u001b[1;32m   4269\u001b[0m \u001b[39m    \u001b[39m\u001b[39m\"\"\"Performs a scaling of the lattice vectors so that length proportions\u001b[39;00m\n\u001b[1;32m   4270\u001b[0m \u001b[39m    and angles are preserved.\u001b[39;00m\n\u001b[1;32m   4271\u001b[0m \n\u001b[1;32m   4272\u001b[0m \u001b[39m    Args:\u001b[39;00m\n\u001b[1;32m   4273\u001b[0m \u001b[39m        volume (float): New volume of the unit cell in A^3.\u001b[39;00m\n\u001b[1;32m   4274\u001b[0m \u001b[39m    \"\"\"\u001b[39;00m\n\u001b[0;32m-> 4275\u001b[0m     \u001b[39mself\u001b[39m\u001b[39m.\u001b[39mlattice \u001b[39m=\u001b[39m \u001b[39mself\u001b[39;49m\u001b[39m.\u001b[39;49m_lattice\u001b[39m.\u001b[39;49mscale(volume)\n",
      "File \u001b[0;32m~/miniconda3/envs/at2/lib/python3.9/site-packages/pymatgen/core/lattice.py:1197\u001b[0m, in \u001b[0;36mLattice.scale\u001b[0;34m(self, new_volume)\u001b[0m\n\u001b[1;32m   1193\u001b[0m geo_factor \u001b[39m=\u001b[39m \u001b[39mabs\u001b[39m(np\u001b[39m.\u001b[39mdot(np\u001b[39m.\u001b[39mcross(versors[\u001b[39m0\u001b[39m], versors[\u001b[39m1\u001b[39m]), versors[\u001b[39m2\u001b[39m]))\n\u001b[1;32m   1195\u001b[0m ratios \u001b[39m=\u001b[39m np\u001b[39m.\u001b[39marray(\u001b[39mself\u001b[39m\u001b[39m.\u001b[39mabc) \u001b[39m/\u001b[39m \u001b[39mself\u001b[39m\u001b[39m.\u001b[39mc\n\u001b[0;32m-> 1197\u001b[0m new_c \u001b[39m=\u001b[39m (new_volume \u001b[39m/\u001b[39;49m (geo_factor \u001b[39m*\u001b[39;49m np\u001b[39m.\u001b[39;49mprod(ratios))) \u001b[39m*\u001b[39m\u001b[39m*\u001b[39m (\u001b[39m1\u001b[39m \u001b[39m/\u001b[39m \u001b[39m3.0\u001b[39m)\n\u001b[1;32m   1199\u001b[0m \u001b[39mreturn\u001b[39;00m Lattice(versors \u001b[39m*\u001b[39m (new_c \u001b[39m*\u001b[39m ratios), pbc\u001b[39m=\u001b[39m\u001b[39mself\u001b[39m\u001b[39m.\u001b[39mpbc)\n",
      "\u001b[0;31mTypeError\u001b[0m: unsupported operand type(s) for /: 'OutputReference' and 'float'"
     ]
    }
   ],
   "source": [
    "flow = equil_vol.make(structure)"
   ]
  },
  {
   "cell_type": "code",
   "execution_count": null,
   "metadata": {},
   "outputs": [],
   "source": []
  },
  {
   "cell_type": "code",
   "execution_count": null,
   "metadata": {},
   "outputs": [],
   "source": []
  }
 ],
 "metadata": {
  "kernelspec": {
   "display_name": "at2",
   "language": "python",
   "name": "python3"
  },
  "language_info": {
   "codemirror_mode": {
    "name": "ipython",
    "version": 3
   },
   "file_extension": ".py",
   "mimetype": "text/x-python",
   "name": "python",
   "nbconvert_exporter": "python",
   "pygments_lexer": "ipython3",
   "version": "3.9.18"
  }
 },
 "nbformat": 4,
 "nbformat_minor": 2
}
