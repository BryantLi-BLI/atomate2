{
 "cells": [
  {
   "cell_type": "code",
   "execution_count": 2,
   "metadata": {},
   "outputs": [],
   "source": [
    "from atomate2.forcefields.flows.mpmorph import MPMorphMLFFMDMaker\n",
    "from jobflow import run_locally\n",
    "from pymatgen.core import Structure"
   ]
  },
  {
   "cell_type": "code",
   "execution_count": null,
   "metadata": {},
   "outputs": [],
   "source": [
    "s = Structure.from_file(\"/Users/aaronkaplan/Library/CloudStorage/Dropbox/postdoc_MP/software/atomate2/In_53-Ga_47_As.cif\")"
   ]
  }
 ],
 "metadata": {
  "kernelspec": {
   "display_name": "mpmorph",
   "language": "python",
   "name": "python3"
  },
  "language_info": {
   "codemirror_mode": {
    "name": "ipython",
    "version": 3
   },
   "file_extension": ".py",
   "mimetype": "text/x-python",
   "name": "python",
   "nbconvert_exporter": "python",
   "pygments_lexer": "ipython3",
   "version": "3.11.0"
  }
 },
 "nbformat": 4,
 "nbformat_minor": 2
}
